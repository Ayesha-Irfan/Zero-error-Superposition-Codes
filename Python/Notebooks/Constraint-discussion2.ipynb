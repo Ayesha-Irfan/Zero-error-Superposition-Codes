{
  "nbformat": 4,
  "nbformat_minor": 0,
  "metadata": {
    "colab": {
      "provenance": []
    },
    "kernelspec": {
      "name": "python3",
      "display_name": "Python 3"
    },
    "language_info": {
      "name": "python"
    }
  },
  "cells": [
    {
      "cell_type": "code",
      "source": [
        "00      0"
      ],
      "metadata": {
        "id": "uyrtqhr4Sp30"
      },
      "execution_count": null,
      "outputs": []
    },
    {
      "cell_type": "markdown",
      "source": [
        " An updated version of the previous calculations, incorporating a new constraint that I'd neglected to use the previous time round.\n",
        "\n",
        "Phrased the problem as a feasibility search. for fixed tuple = ($\\delta, w, \\Delta', R_s,R_c$), there're a bunch of constraints, most of which are linear, some are non-linear but nonetheless convex. if there exists a single $p_{C,C',X,X'}$ distribution that satisfies all the constraints then the given tuple = ($\\delta, w, \\Delta', R_s,R_c$) doesn't beat the GV bound. the goal is therefore to find a tuple = ($\\delta, w, \\Delta', R_s,R_c$) for which $R_c + R_s$ exceeds the GV bound $1-H(\\delta)$, but for which the constraint set is empty.\n",
        "\n",
        "Given a fractional distance $\\delta \\in (0,0.5)$, the new search problem (corresponding to finding a random superposition code with fractional distance $\\delta n$ is as below.\n",
        "\n",
        "The search variables are:\n",
        "\n",
        "*   The cloud rate $R_c$,\n",
        "*   The satellite codeword rate $R_s$,\n",
        "*   The weight $w$, i.e. satellite codewords are chosen to be at Hamming distance $wn$ from the cloud centres, and\n",
        "*   The $16$ variables $p_{CC'XX'}(i,i',j,j')$, with $i,i',j,j' \\in \\{0,1\\}$ such that $p_{CC'XX'}(i,i',j,j') \\in [0,1]$.\n",
        "\n",
        "(In the note below, by convention $i$ will index the variable $C$, $i'$ the the variable $C'$, $j$ the variable $X$, $j'$ the the variable $X'$)\n",
        "\n",
        "Also, we define the following internal variables\n",
        "\n",
        "* Let $\\Delta$ be defined by the equation $R_c = 1-H(\\Delta)$,\n",
        "* Let $R_e$ (the purported *excess rate*) be defined by $R_c+R_s - (1- H(\\delta))$,\n",
        "* Let $w_0$ be the root to the equation $2w^2 - 2w + \\delta = 0$ that is less than $1/2$, i.e., $w_0 = \\frac{2 - \\sqrt{4-8\\delta}}{4} = \\frac{1}{2} - \\sqrt{\\frac{1-2\\delta}{4}}$.\n",
        "[Yihan: See intuition from 3 below.]\n",
        "* Let $$ R_{GV}(w,\\delta) = \\left ( 1-w - \\frac{\\delta}{2} \\right )\\log \\left ( \\frac{1-w - \\frac{\\delta}{2}}{(1-w)^2}\\right ) + 2\\left ( \\frac{\\delta}{2} \\right )\\log \\left ( \\frac{\\frac{\\delta}{2}}{w(1-w)}\\right ) + \\left ( w - \\frac{\\delta}{2} \\right )\\log \\left ( \\frac{w - \\frac{\\delta}{2}}{w^2}\\right )\n",
        "$$\n",
        "[Mike: perhaps add intuition for $R_{GV}(w,\\delta)$.]\n",
        "[Yihan: This is the weight-constrained GV bound.]\n",
        "\n",
        "\n",
        "Then we're looking for $R_c$, $R_s$, $w$, such that the excess rate $R_e$ is positive, BUT there exists no p.m.f. $p_{CC'XX'}$  satisfying all the following constraints simultaneously:\n",
        "\n",
        "\n",
        "1.   For all $i,i',j,j' \\in \\{0,1\\}$, $p_{CC'XX'}(i,i',j,j') \\geq 0$. (**These variables form a p.m.f.**) The fact that the variables sum up to $1$ is implied by 6. below, hence is vacuous.\n",
        "2.   $R_c, R_s, w \\in (0,1) $ (**Rates and weights are positive quantities**). Actually, in the first instance can further restrict $w \\in (0,0.5)$ (physical reasoning -- choosing satellite codewords which are \"very far away\" from the cloud centres is \"unlikely\" to result in good codes).\n",
        "3. $2w(1-w) \\geq \\delta$ (**Weight-constrained Plotkin bound**). Therefore $w \\in (w_0,1/2)$.\n",
        "[Yihan: Only keep satellite codewords?]\n",
        "4. $R_s \\leq R_{GV}(w,\\delta)$ (**Satellite codewords have rate at most equaling the corresponding weight-constrained GV rate**).\n",
        "5. $p_C = p_C' = (0.5,0.5)$, i.e.,\n",
        "* $\\sum_{i',j,j'}p_{CC'XX'}(0,i',j,j') = p_{CC'XX'}(1,i',j,j') = 0.5$\n",
        "* $\\sum_{i,j,j'}p_{CC'XX'}(i,0,j,j') = p_{CC'XX'}(i,1,j,j') = 0.5$\n",
        "(**Cloud centres are chosen Bernoulli(0.5), and atypical ones can be decimated without rate-loss**). However, this constraint will actually be implied by the next one, therefore is vacuous.\n",
        "6. $p_{C,X} = p_{C',X'} = (\\frac{1-w}{2},\\frac{w}{2},\\frac{w}{2},\\frac{1-w}{2})$, i.e.,\n",
        "* $\\sum_{i',j'}p_{CC'XX'}(0,i',0,j') = \\frac{1-w}{2}$\n",
        "* $\\sum_{i',j'}p_{CC'XX'}(0,i',1,j') = \\frac{w}{2}$\n",
        "* $\\sum_{i',j'}p_{CC'XX'}(1,i',0,j') = \\frac{w}{2}$\n",
        "* $\\sum_{i',j'}p_{CC'XX'}(1,i',1,j') = \\frac{1-w}{2}$\n",
        "* $\\sum_{i,j}p_{CC'XX'}(i,0,j,0) = \\frac{1-w}{2}$\n",
        "* $\\sum_{i,j}p_{CC'XX'}(i,0,j,1) = \\frac{w}{2}$\n",
        "* $\\sum_{i,j}p_{CC'XX'}(i,1,j,0) = \\frac{w}{2}$\n",
        "* $\\sum_{i,j}p_{CC'XX'}(i,1,j,1) = \\frac{1-w}{2}$\n",
        "\n",
        "(**Satellite codewords are chosen by running a BSC on cloud centres, and atypical ones can be decimated without rate-loss**). These 8 constraints can be verified to contain 7 independent constraints, and therefore reduce the search space of the $p_{CC'XX'}$ variables down from 16 to 9.\n",
        "[Yihan: Maybe just 6 independent constraints?]\n",
        "\n",
        "7. $H(C|C'), H(C'|C) \\geq H(\\Delta)$ (**Pairs of cloud centres that are too close can be decimated without rate-loss, up to the standard GV rate.**)\n",
        "Combined with the fact that $H(C) = H(C') = 1$ (imposed by the constraints on the p.m.f. above in 6.), these constraints are therefore equivalent to the constraint $H(C,C')\\geq 1+H(\\Delta)$. Again using facts from 6. above, is again equivalent to requiring that the p.m.f. $p_{CC'}(i,i')$ can be written as $(\\frac{1-\\Delta'}{2}, \\frac{\\Delta'}{2}, \\frac{\\Delta'}{2}, \\frac{1-\\Delta'}{2})$ for some $\\Delta' \\in (\\Delta,0.5)$.\n",
        "So this puts one additional linearly independent constraint on $p_{CC'XX'}$, albeit by introducing a new variable $\\Delta$, so prima facie doesn't seem to introduce new constraints on $p_{CC'XX'}$. However, since $\\Delta' \\geq \\Delta$, and $\\Delta$ satisfies the equation $R_c = 1-H(\\Delta)$, therefore this (somewhat) constrains the set of $p_{CC'XX'}$.\n",
        "\n",
        "[Mike: are you assuming a single $\\Delta'$? Not certain I follow.]\n",
        "\n",
        "8. $$H(X|C,C') - H(X|C) + H(\\Delta') - 1 + R_c \\geq 0,~and $$\n",
        "$$H(X'|C,C') - H(X'|C') + H(\\Delta') - 1 + R_c \\geq 0, $$\n",
        "Since $H(X|C) = H(X'|C') = H(w)$, these simplify to:\n",
        "$$H(X|C,C') + H(\\Delta') + R_c \\geq 1+H(w),~and $$\n",
        "$$H(X'|C,C') + H(\\Delta') + R_c \\geq 1+H(w). $$\n",
        "Finally, adding $H(C,C') = 1+H(\\Delta')$ to both sides, we get\n",
        "$$H(X,C,C')  + R_c \\geq 2+H(w),~and $$\n",
        "$$H(X',C,C') + R_c \\geq 2+H(w). $$\n",
        "(**Satellite codewords that are jointly atypical w.r.t. their own cloud centre and another cloud centre can be decimated without rate-loss, up a certain bound.**) This is a new constraint that I'd neglected in my earlier analysis. This follows by noting that given any pair of cloud centres $\\underline{c}, \\underline{c}'$ such that their pairwise distance is $\\Delta n$, the probability that a given satellite codeword $\\underline{x}$ around $\\underline{c}$ has joint type $p_{CC'X}$ is\n",
        "$$ \\frac{2^{nH(X|C,C')}}{2^{nH(X|C)}}. $$\n",
        "Hence the number of satellite codewords falling within this type class is\n",
        "$$ \\frac{2^{nH(X|C,C')}}{2^{nH(X|C)}} 2^{nR_s}. $$\n",
        "The overall number of cloud centres $\\underline{c}'$ such that its pairwise distance w.r.t. $\\underline{c}$ is $\\Delta' n$ equals\n",
        "$$ \\frac{2^{nH(\\Delta')}}{2^{n}} 2^{nR_c}. $$\n",
        "Hence the overall number of satellite codewords one would need to decimate around $\\underline{c}$ equals\n",
        "$$ \\frac{2^{nH(X|C,C')}}{2^{nH(X|C)}} 2^{nR_s}\\frac{2^{nH(\\Delta')}}{2^{n}} 2^{nR_c} = \\exp_2(n[H(X|C,C') - H(X|C) + R_s + H(\\Delta') - 1 + R_c ]). $$\n",
        "As long as this quantity is say no more than a constant factor of $2^{nR_s}$, such satellite codewords may be decimated without rate-loss. Hence, doing the calculations w.r.t. $\\underline{c}$, the only joint-types that would survive decimation must satisfy the inequality\n",
        "$$H(X|C,C') - H(X|C) + R_s + H(\\Delta') - 1 + R_c \\geq R_s, $$\n",
        "i.e.,\n",
        "$$H(X|C,C') - H(X|C) +  H(\\Delta') - 1 + R_c \\geq 0. $$\n",
        "A symmetric analysis holds for satellite codewords around $\\underline{c}'$.\n",
        "\n",
        "[Mike: Are we fixing $\\Delta'$ or is there perhaps a union bound over a $\\Delta'$ net on decimination? I think the former.]\n",
        "\n",
        "9. Analogously, as in the previous long-shot document, the only joint types that survive decimation satisfy the constraint:\n",
        "$$\\frac{2^{nH(X|C,C',X')}}{2^{nH(X|C)}} 2^{nR_s}\\frac{2^{nH(C'|C)}}{2^{n}} 2^{nR_c} \\frac{2^{nH(X'|C,C')}}{2^{nH(X'|C')}} 2^{nR_s} \\gg 2^{nR_s}$$\n",
        "which results in the constraint:\n",
        "$$H(C,C',X,X') + R_s + R_c \\geq 2 + 2H(w)  $$\n",
        "10. For confusability, of course it must be the case that the joint distribution $p_{C,C',X,X'}$ satisfies\n",
        "$$\\sum_{i,i'}\\sum_{j\\neq j'} p_{C,C',X,X'}(i,i',j,j') \\leq \\delta. $$ If there's such a distribution, then there's a distribution satisying the inequality with equality, i.e.,\n",
        "$$\\sum_{i,i'}\\sum_{j\\neq j'} p_{C,C',X,X'}(i,i',j,j') = \\delta. $$\n",
        "11. Finally, by physical reasoning, if the set of distributions saisfying the above is non-empty, there should be a joint distribution $p'_{C,C',X,X'}(i,i',j,j')$ that is symmetric in the pairs $(C,X)$ and $(C',X')$, i.e., a joint type $p_{C,C',X,X'}(i,i',j,j')$ is confusible if and only if there exists another $p'_{C,C',X,X'}(i,i',j,j')$ such that for all $(i,i',j,j')$ tuples $p'_{C,C',X,X'}(i,i',j,j') = p'_{C,C',X,X'}(i',i,j',j)$. This is because if the roles of $(\\underline{c},\\underline{x})$ and $(\\underline{c}',\\underline{x}')$, the confusability of $(\\underline{x},\\underline{x}')$ doesn't change, and also, each of the (in)equalities above should sitll hold (due to, among other reasons, the convexity of the entropy function). Therefore by taking the average of the $p_{C,C',X,X'}$ and $p_{C',C,X',X}$ distributions we get the claimed $p'_{C,C',X,X'}$ distribution that satisfies the above constraints.\n",
        "This observation should help considerably, by reducing the number of dimensions in the search space a fair bit.\n",
        "\n",
        "12. The \"interesting\" search space for $R_c$ is $R_c > 1 - H(\\delta) - R_s$.\n",
        "\n"
      ],
      "metadata": {
        "id": "O7i9HxfY6_Ra"
      }
    },
    {
      "cell_type": "code",
      "source": [
        "from google.colab import drive\n",
        "drive.mount('/content/drive')"
      ],
      "metadata": {
        "colab": {
          "base_uri": "https://localhost:8080/"
        },
        "id": "1M9K0SvInu53",
        "outputId": "09a047a9-ed43-4136-f54b-03d640a146f8"
      },
      "execution_count": null,
      "outputs": [
        {
          "output_type": "stream",
          "name": "stdout",
          "text": [
            "Mounted at /content/drive\n"
          ]
        }
      ]
    },
    {
      "cell_type": "markdown",
      "source": [
        "# Observations/Suggested line of attack\n",
        "\n",
        "For a given $\\delta, w, R_c, R_s$, the search space is actually convex in the $p_{C,C',X,X'}$, and therefore should be tractably searchable, maybe even with off-the-shelf optimizers? The reason is as follows:\n",
        "\n",
        "The linear (in)equality constraints (below) clearly form a convex polytope\n",
        "* $\\sum_{i',j'}p_{CC'XX'}(0,i',0,j') = \\frac{1-w}{2}$\n",
        "* $\\sum_{i',j'}p_{CC'XX'}(0,i',1,j') = \\frac{w}{2}$\n",
        "* $\\sum_{i',j'}p_{CC'XX'}(1,i',0,j') = \\frac{w}{2}$\n",
        "* $\\sum_{i',j'}p_{CC'XX'}(1,i',1,j') = \\frac{1-w}{2}$\n",
        "* $\\sum_{i,j}p_{CC'XX'}(i,0,j,0) = \\frac{1-w}{2}$\n",
        "* $\\sum_{i,j}p_{CC'XX'}(i,0,j,1) = \\frac{w}{2}$\n",
        "* $\\sum_{i,j}p_{CC'XX'}(i,1,j,0) = \\frac{w}{2}$\n",
        "* $\\sum_{i,j}p_{CC'XX'}(i,1,j,1) = \\frac{1-w}{2}$\n",
        "* $\\sum_{i,i'}\\sum_{j\\neq j'} p_{C,C',X,X'}(i,i',j,j') = \\delta. $\n",
        "* $p_{C,C',X,X'}(0,0,0,1) = p_{C,C',X,X'}(0,0,1,0) $\n",
        "* $p_{C,C',X,X'}(0,1,0,0) = p_{C,C',X,X'}(1,0,0,0) $\n",
        "* $p_{C,C',X,X'}(0,1,0,1) = p_{C,C',X,X'}(1,0,1,0) $\n",
        "* $p_{C,C',X,X'}(0,1,1,0) = p_{C,C',X,X'}(1,0,0,1) $\n",
        "* $p_{C,C',X,X'}(0,1,1,1) = p_{C,C',X,X'}(1,0,1,1) $\n",
        "* $p_{C,C',X,X'}(1,1,1,0) = p_{C,C',X,X'}(1,1,0,1) $\n",
        "* For all $(i,i',j,j')$, $p_{CC'XX'}(i,i',j,j') \\geq 0$\n",
        "\n",
        "(The first 8 come from constraint 6, the next one from constraint 10, the next 6 from constraint 11, and the last one from constraint 1.)\n",
        "\n",
        "Further, the entropy constraints from 7, 8., 9. below each forms convex sets in the variables of $p_{CC'XX'}$:\n",
        "\n",
        "* $H(C,C') + R_c \\geq 2$\n",
        "* $H(X,C,C')  + R_c \\geq 2+H(w)$\n",
        "* $H(X',C,C') + R_c \\geq 2+H(w)$\n",
        "* $H(C,C',X,X') + R_s + R_c \\geq 2 + 2H(w)  $\n",
        "\n",
        "The intersection of convex sets is still convex. So, one is searching to see whether the intersection of all the above constraints is non-empty for a given choice of $\\delta, w, R_c, R_s$.\n",
        "\n",
        "Among those $4$ parameters,\n",
        "* $\\delta \\in (0,1/2)$,\n",
        "* $w \\in (w_0, 1/2)$\n",
        "* $R_s \\in (0, R_{GV}(\\delta,w))$\n",
        "* $R_c \\in (1-H(\\delta)-R_s,LP(\\delta)) $.\n",
        "\n",
        "So in principle one \"only\" has to brute-force search for those parameters in the given ranges (via a grid-search) -- for each $4$-tuple one can run the convex optimization feasibility searcher above.\n",
        "\n",
        "**Update 20th Feb**\n",
        "\n",
        "Actually, only need to check $$R_c \\in (1-H(\\delta)-R_s,\\min\\{LP(\\delta),1-H(\\delta \\ast w)\\}) $$ (see \"sanity check\" below)\n",
        "\n",
        "**Update 2: 20th Feb**\n",
        "Thinking about it a bit more, looks like the constraints are convex not just in the $p_{CC'XX'}$ variables, but also in $R_c$ and $R_s$. So, by adding the constraint $R_c + R_s > 1-H(\\delta)$ and treating $R_c$ and $R_s$ as variables,\n",
        "one only has to do a parameter search over the $\\delta$ and $w$ variables.\n",
        "\n",
        "In the first instance, one should do a search over the $\\delta$ and $w$ variables to see if there exist choices for $R_s$ and $R_c$ that fall within the required ranges. That is, search for $\\delta$ and $w$ variables in the ranges\n",
        "\n",
        "* $\\delta \\in (0,1/2)$,\n",
        "* $w \\in (w_0, 1/2)$\n",
        "\n",
        "such that for those $\\delta$ and $w$, there exist $R_c$ and $R_s$ such that\n",
        "\n",
        "* $R_s \\in (0, R_{GV}(\\delta,w))$\n",
        "* $R_c \\in (1-H(\\delta)-R_s,\\min\\{LP(\\delta),1-H(\\delta \\ast w)\\}) $\n",
        "* $R_c + R_s > 1-H(\\delta)$\n",
        "\n",
        "If there do NOT exist such $R_c$ and $R_s$, then game already over, can't beat the binary GV bound with these current constraints (might have to explore more general $p_{X|C}$). On the other hand, if there exist such $R_c$ and $R_s$, then for such $\\delta, w, R_c, R_s$ we want to check if there exists a $4$-tuple for which the $p_{C,C',X,X'}$ variables satisfying the corresponding inequalities above do NOT exist -- if there is such a $\\delta, w, R_c, R_s$ for which no $p_{C,C',X,X'}$ exists, that's it, we've beaten the GV bound!\n"
      ],
      "metadata": {
        "id": "VDB6OIhF5jJj"
      }
    },
    {
      "cell_type": "markdown",
      "source": [
        "#Reason to be optimistic/Sanity check\n",
        "\n",
        "Why should adding the new constraints give any hope? Well, at least for some parameter choices, the joint distribution that forced rates no higher than $R_{GV}$ in the original long-shot document is ruled out. Recall that that hope-killing distribution corresponded to the Markov chain $$p_{C,C',X,X'} = p_Cp_{X|C}p_{X'|X}p_{C'|X'},$$ where\n",
        "* $p_C$ is Bern(1/2),\n",
        "* $p_{X|C}$ is a BSC($w$)\n",
        "* $p_{X'|X}$ is a BSC($\\delta$)\n",
        "* $p_{C'|X'}$ is a BSC($w$)\n",
        "\n",
        "But the \"new\" constraints $H(C,C',X)  + R_c \\geq 2+H(w)$ then holds only if\n",
        "$$H(C) + H(X|C) + H(C'|X)  + R_c \\geq 2+H(w),$$\n",
        "i.e., iff\n",
        "$$1 + H(w) + H(\\delta \\ast w)  + R_c \\geq 2+H(w),$$\n",
        "i.e., iff\n",
        "$$ R_c \\geq 1 - H(\\delta \\ast w).$$\n",
        "(Due to bidirectionality of Markov chains, the inequality $H(C,C',X')  + R_c \\geq 2+H(w)$ results in the same constraint._)\n",
        "\n",
        "So, restricting $$ R_c < 1 - H(\\delta \\ast w)$$ means this distribution no longer rules out beating GV!\n",
        "(The other entropy constraints don't give anything interesting for this Markov chain:\n",
        "* $H(C,C') + R_c \\geq 2 \\Leftrightarrow R_c \\geq 1 - H(w \\ast \\delta \\ast w) $, but  $R_c < 1 - H(w \\ast \\delta \\ast w) \\Rightarrow R_c < 1 - H(\\delta \\ast w) $\n",
        "* $H(C,C',X,X') + R_c + R_s \\geq 2 + 2H(w) \\Leftrightarrow R_c + R_s \\geq 1 - H(\\delta)$, which is what we want anyway.)\n",
        "Though, hmm, the first of these two seems to indicate that even in long-shot 1, if we'd restricted $R_c$ to be sufficiently small (less than $1 - H(w \\ast \\delta \\ast w)$, we might have gotten something interesting -- worth checking again.\n",
        "\n",
        "**Update 3 (27th Feb):**\n",
        "\n",
        "But due to the concavity of the entropy function, the maximum for $H(C,C',X,X')$ (corresponding to a minimum for $R_s + R_c$, i.e., the overall rate) is unique, hence if the Markov chain bottleneck on $H(C,C',X,X')$ is ruled out by a positive amount due to choosing $ R_c < 1 - H(\\delta \\ast w)$, then the minimum $R_s + R_c$ must increase by a positive amount, i.e., we beat the GV bound!"
      ],
      "metadata": {
        "id": "u_MqFOMUCYMN"
      }
    },
    {
      "cell_type": "markdown",
      "source": [
        "# Addenda\n",
        "A different thought, if we want to try to proceed at least part of the way more analytically: For given $\\delta, w, R_c, R_s, \\Delta'$, first use constraints 6., 7., and 10., 11. to write the p.m.f. $p_{C,C',X,X'}$ in a \"small\" number of independent variables. (Constraints 6., 7. and 10. together reduce the search space down to 7 variables, I think. Separately, 11. would reduce the search space by 6 variables. In the best case, if these constraints were independent, together, they'd reduce the search space down to one variable, but there are almost certainly dependencies. To find these dependencies, run Gaussian elimination on the $p_{C,C',X,X'}$ constraints to find the dimension of the corresponding affine space, and a basis for the solution space.)\n",
        "\n"
      ],
      "metadata": {
        "id": "4zt5hdX65t14"
      }
    },
    {
      "cell_type": "markdown",
      "source": [
        "**Convex program**\n",
        "\n",
        "For a given $\\delta \\in [0,1/2]$, let ${\\cal S}(\\delta)$ be the set of tuples $(w,R_c,R_s)$ satisfying the constraints\n",
        "* $w \\in (w_0, 1/2)$\n",
        "* $R_s \\in (0, R_{GV}(\\delta,w))$\n",
        "* $R_c \\in (1-H(\\delta)-R_s,1-H(\\delta \\ast w)) $. (Forget the LP constraint -- doesn't really matter.)\n",
        "Note that ${\\cal S}(\\delta)$ is non-empty if and only if $1-H(\\delta)-R_s < 1-H(\\delta \\ast w)$.\n",
        "\n",
        "For a given given $\\delta \\in [0,1/2]$, for any tuple $(w,R_c,R_s) \\in {\\cal S}(\\delta)$ let ${\\cal R}(\\delta,w,R_c,R_s)$ be the region in $[0,1]^{16}$ (with each dimension corresponding to a different component of $p_{C,C',X,X'}(i,i',j,j')$) satisfying all the following constraints simultaneously:\n",
        "* $\\sum_{i',j'}p_{CC'XX'}(0,i',0,j') = \\frac{1-w}{2}$\n",
        "* $\\sum_{i',j'}p_{CC'XX'}(0,i',1,j') = \\frac{w}{2}$\n",
        "* $\\sum_{i',j'}p_{CC'XX'}(1,i',0,j') = \\frac{w}{2}$\n",
        "* $\\sum_{i',j'}p_{CC'XX'}(1,i',1,j') = \\frac{1-w}{2}$\n",
        "* $\\sum_{i,j}p_{CC'XX'}(i,0,j,0) = \\frac{1-w}{2}$\n",
        "* $\\sum_{i,j}p_{CC'XX'}(i,0,j,1) = \\frac{w}{2}$\n",
        "* $\\sum_{i,j}p_{CC'XX'}(i,1,j,0) = \\frac{w}{2}$\n",
        "* $\\sum_{i,j}p_{CC'XX'}(i,1,j,1) = \\frac{1-w}{2}$\n",
        "* $\\sum_{i,i'}\\sum_{j\\neq j'} p_{C,C',X,X'}(i,i',j,j') = \\delta. $\n",
        "* $p_{C,C',X,X'}(0,0,0,1) = p_{C,C',X,X'}(0,0,1,0) $\n",
        "* $p_{C,C',X,X'}(0,1,0,0) = p_{C,C',X,X'}(1,0,0,0) $\n",
        "* $p_{C,C',X,X'}(0,1,0,1) = p_{C,C',X,X'}(1,0,1,0) $\n",
        "* $p_{C,C',X,X'}(0,1,1,0) = p_{C,C',X,X'}(1,0,0,1) $\n",
        "* $p_{C,C',X,X'}(0,1,1,1) = p_{C,C',X,X'}(1,0,1,1) $\n",
        "* $p_{C,C',X,X'}(1,1,1,0) = p_{C,C',X,X'}(1,1,0,1) $\n",
        "* For all $(i,i',j,j')$, $p_{CC'XX'}(i,i',j,j') \\geq 0$\n",
        "* $H(C,C') + R_c \\geq 2$\n",
        "* $H(X,C,C')  + R_c \\geq 2+H(w)$\n",
        "* $H(X',C,C') + R_c \\geq 2+H(w)$\n",
        "* $H(C,C',X,X') + R_s + R_c \\geq 2 + 2H(w)  $\n",
        "\n",
        "Then for each $\\delta \\in [0,1/2]$ the convex program should return\n",
        "$$\\max_{(w,R_c,R_s) \\in {\\cal S}(\\delta) \\mbox{ such that } {\\cal R}(\\delta,w,R_c,R_s) \\mbox{ is empty}} R_c + R_s - (1-H(\\delta))$$\n"
      ],
      "metadata": {
        "id": "odLyenf2n6Dm"
      }
    },
    {
      "cell_type": "markdown",
      "source": [],
      "metadata": {
        "id": "mR0DAN_5jQSi"
      }
    }
  ]
}